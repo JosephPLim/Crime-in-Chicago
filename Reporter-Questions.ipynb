{
 "cells": [
  {
   "cell_type": "markdown",
   "id": "5c747f42",
   "metadata": {},
   "source": [
    "Provide information on the following data for a (fictional) reporter's newspaper."
   ]
  },
  {
   "cell_type": "markdown",
   "id": "a0339911",
   "metadata": {},
   "source": [
    "## Library Importation"
   ]
  },
  {
   "cell_type": "code",
   "execution_count": 2,
   "id": "7c4996c3",
   "metadata": {},
   "outputs": [],
   "source": [
    "import numpy as np\n",
    "import pandas as pd\n",
    "\n",
    "import matplotlib.pyplot as plt\n",
    "import seaborn as sns\n",
    "\n",
    "import glob"
   ]
  },
  {
   "cell_type": "markdown",
   "id": "b0579dc7",
   "metadata": {},
   "source": [
    "## Data Importation and Cleaning"
   ]
  },
  {
   "cell_type": "code",
   "execution_count": 4,
   "id": "72a650fb",
   "metadata": {
    "scrolled": true
   },
   "outputs": [
    {
     "data": {
      "text/html": [
       "<div>\n",
       "<style scoped>\n",
       "    .dataframe tbody tr th:only-of-type {\n",
       "        vertical-align: middle;\n",
       "    }\n",
       "\n",
       "    .dataframe tbody tr th {\n",
       "        vertical-align: top;\n",
       "    }\n",
       "\n",
       "    .dataframe thead th {\n",
       "        text-align: right;\n",
       "    }\n",
       "</style>\n",
       "<table border=\"1\" class=\"dataframe\">\n",
       "  <thead>\n",
       "    <tr style=\"text-align: right;\">\n",
       "      <th></th>\n",
       "      <th>ID</th>\n",
       "      <th>Date</th>\n",
       "      <th>Primary Type</th>\n",
       "      <th>Description</th>\n",
       "      <th>Location Description</th>\n",
       "      <th>Arrest</th>\n",
       "      <th>Domestic</th>\n",
       "      <th>Beat</th>\n",
       "      <th>District</th>\n",
       "      <th>Ward</th>\n",
       "      <th>Latitude</th>\n",
       "      <th>Longitude</th>\n",
       "    </tr>\n",
       "  </thead>\n",
       "  <tbody>\n",
       "    <tr>\n",
       "      <th>0</th>\n",
       "      <td>1311123</td>\n",
       "      <td>01/01/2001 01:00:00 AM</td>\n",
       "      <td>CRIMINAL DAMAGE</td>\n",
       "      <td>TO VEHICLE</td>\n",
       "      <td>STREET</td>\n",
       "      <td>False</td>\n",
       "      <td>False</td>\n",
       "      <td>1223</td>\n",
       "      <td>12.0</td>\n",
       "      <td>NaN</td>\n",
       "      <td>41.854014</td>\n",
       "      <td>-87.681909</td>\n",
       "    </tr>\n",
       "    <tr>\n",
       "      <th>1</th>\n",
       "      <td>1318099</td>\n",
       "      <td>01/01/2001 01:00:00 AM</td>\n",
       "      <td>BATTERY</td>\n",
       "      <td>SIMPLE</td>\n",
       "      <td>RESIDENCE PORCH/HALLWAY</td>\n",
       "      <td>False</td>\n",
       "      <td>True</td>\n",
       "      <td>214</td>\n",
       "      <td>2.0</td>\n",
       "      <td>NaN</td>\n",
       "      <td>41.819538</td>\n",
       "      <td>-87.620020</td>\n",
       "    </tr>\n",
       "    <tr>\n",
       "      <th>2</th>\n",
       "      <td>1309918</td>\n",
       "      <td>01/01/2001 01:00:00 AM</td>\n",
       "      <td>THEFT</td>\n",
       "      <td>$500 AND UNDER</td>\n",
       "      <td>TAVERN/LIQUOR STORE</td>\n",
       "      <td>False</td>\n",
       "      <td>False</td>\n",
       "      <td>1924</td>\n",
       "      <td>19.0</td>\n",
       "      <td>NaN</td>\n",
       "      <td>41.940001</td>\n",
       "      <td>-87.654258</td>\n",
       "    </tr>\n",
       "    <tr>\n",
       "      <th>3</th>\n",
       "      <td>1323691</td>\n",
       "      <td>01/01/2001 01:00:00 AM</td>\n",
       "      <td>WEAPONS VIOLATION</td>\n",
       "      <td>UNLAWFUL POSS OF HANDGUN</td>\n",
       "      <td>STREET</td>\n",
       "      <td>False</td>\n",
       "      <td>False</td>\n",
       "      <td>1135</td>\n",
       "      <td>11.0</td>\n",
       "      <td>NaN</td>\n",
       "      <td>41.866694</td>\n",
       "      <td>-87.688513</td>\n",
       "    </tr>\n",
       "    <tr>\n",
       "      <th>4</th>\n",
       "      <td>1326041</td>\n",
       "      <td>01/01/2001 01:00:00 AM</td>\n",
       "      <td>BATTERY</td>\n",
       "      <td>SIMPLE</td>\n",
       "      <td>RESIDENCE</td>\n",
       "      <td>False</td>\n",
       "      <td>False</td>\n",
       "      <td>1624</td>\n",
       "      <td>16.0</td>\n",
       "      <td>NaN</td>\n",
       "      <td>41.957850</td>\n",
       "      <td>-87.749185</td>\n",
       "    </tr>\n",
       "  </tbody>\n",
       "</table>\n",
       "</div>"
      ],
      "text/plain": [
       "        ID                    Date       Primary Type  \\\n",
       "0  1311123  01/01/2001 01:00:00 AM    CRIMINAL DAMAGE   \n",
       "1  1318099  01/01/2001 01:00:00 AM            BATTERY   \n",
       "2  1309918  01/01/2001 01:00:00 AM              THEFT   \n",
       "3  1323691  01/01/2001 01:00:00 AM  WEAPONS VIOLATION   \n",
       "4  1326041  01/01/2001 01:00:00 AM            BATTERY   \n",
       "\n",
       "                Description     Location Description  Arrest  Domestic  Beat  \\\n",
       "0                TO VEHICLE                   STREET   False     False  1223   \n",
       "1                    SIMPLE  RESIDENCE PORCH/HALLWAY   False      True   214   \n",
       "2            $500 AND UNDER      TAVERN/LIQUOR STORE   False     False  1924   \n",
       "3  UNLAWFUL POSS OF HANDGUN                   STREET   False     False  1135   \n",
       "4                    SIMPLE                RESIDENCE   False     False  1624   \n",
       "\n",
       "   District  Ward   Latitude  Longitude  \n",
       "0      12.0   NaN  41.854014 -87.681909  \n",
       "1       2.0   NaN  41.819538 -87.620020  \n",
       "2      19.0   NaN  41.940001 -87.654258  \n",
       "3      11.0   NaN  41.866694 -87.688513  \n",
       "4      16.0   NaN  41.957850 -87.749185  "
      ]
     },
     "execution_count": 4,
     "metadata": {},
     "output_type": "execute_result"
    }
   ],
   "source": [
    "folder = \"Data/Chicago/\"\n",
    "crime_files = sorted(glob.glob(folder+\"*.csv\"))\n",
    "df = pd.concat([pd.read_csv(f) for f in crime_files])\n",
    "\n",
    "df.head()"
   ]
  },
  {
   "cell_type": "code",
   "execution_count": 5,
   "id": "e998383b",
   "metadata": {
    "scrolled": true
   },
   "outputs": [
    {
     "name": "stdout",
     "output_type": "stream",
     "text": [
      "<class 'pandas.core.frame.DataFrame'>\n",
      "Int64Index: 7783202 entries, 0 to 71728\n",
      "Data columns (total 12 columns):\n",
      " #   Column                Dtype  \n",
      "---  ------                -----  \n",
      " 0   ID                    int64  \n",
      " 1   Date                  object \n",
      " 2   Primary Type          object \n",
      " 3   Description           object \n",
      " 4   Location Description  object \n",
      " 5   Arrest                bool   \n",
      " 6   Domestic              bool   \n",
      " 7   Beat                  int64  \n",
      " 8   District              float64\n",
      " 9   Ward                  float64\n",
      " 10  Latitude              float64\n",
      " 11  Longitude             float64\n",
      "dtypes: bool(2), float64(4), int64(2), object(4)\n",
      "memory usage: 668.0+ MB\n"
     ]
    }
   ],
   "source": [
    "df.info()"
   ]
  },
  {
   "cell_type": "code",
   "execution_count": 6,
   "id": "9cb5feb9",
   "metadata": {
    "scrolled": true
   },
   "outputs": [
    {
     "data": {
      "text/plain": [
       "ID                           0\n",
       "Date                         0\n",
       "Primary Type                 0\n",
       "Description                  0\n",
       "Location Description     10364\n",
       "Arrest                       0\n",
       "Domestic                     0\n",
       "Beat                         0\n",
       "District                    47\n",
       "Ward                    614848\n",
       "Latitude                 86787\n",
       "Longitude                86787\n",
       "dtype: int64"
      ]
     },
     "execution_count": 6,
     "metadata": {},
     "output_type": "execute_result"
    }
   ],
   "source": [
    "df.isna().sum()"
   ]
  },
  {
   "cell_type": "code",
   "execution_count": null,
   "id": "4c454995",
   "metadata": {},
   "outputs": [],
   "source": []
  },
  {
   "cell_type": "code",
   "execution_count": null,
   "id": "f94223a0",
   "metadata": {},
   "outputs": [],
   "source": []
  },
  {
   "cell_type": "code",
   "execution_count": null,
   "id": "85ef315e",
   "metadata": {},
   "outputs": [],
   "source": []
  },
  {
   "cell_type": "markdown",
   "id": "09c6d967",
   "metadata": {},
   "source": [
    "## Which district has the most crimes? Which has the least?\n",
    "\n",
    "District 8 has the most crimes at 523091 crimes, while District 21 has the least number of crimes at 4 crimes."
   ]
  },
  {
   "cell_type": "code",
   "execution_count": 11,
   "id": "b8b02ed9",
   "metadata": {},
   "outputs": [
    {
     "data": {
      "text/plain": [
       "(array([ 0,  1,  2,  3,  4,  5,  6,  7,  8,  9, 10, 11, 12, 13, 14, 15, 16,\n",
       "        17, 18, 19, 20, 21, 22, 23]),\n",
       " [Text(0, 0, '1.0'),\n",
       "  Text(1, 0, '2.0'),\n",
       "  Text(2, 0, '3.0'),\n",
       "  Text(3, 0, '4.0'),\n",
       "  Text(4, 0, '5.0'),\n",
       "  Text(5, 0, '6.0'),\n",
       "  Text(6, 0, '7.0'),\n",
       "  Text(7, 0, '8.0'),\n",
       "  Text(8, 0, '9.0'),\n",
       "  Text(9, 0, '10.0'),\n",
       "  Text(10, 0, '11.0'),\n",
       "  Text(11, 0, '12.0'),\n",
       "  Text(12, 0, '14.0'),\n",
       "  Text(13, 0, '15.0'),\n",
       "  Text(14, 0, '16.0'),\n",
       "  Text(15, 0, '17.0'),\n",
       "  Text(16, 0, '18.0'),\n",
       "  Text(17, 0, '19.0'),\n",
       "  Text(18, 0, '20.0'),\n",
       "  Text(19, 0, '21.0'),\n",
       "  Text(20, 0, '22.0'),\n",
       "  Text(21, 0, '24.0'),\n",
       "  Text(22, 0, '25.0'),\n",
       "  Text(23, 0, '31.0')])"
      ]
     },
     "execution_count": 11,
     "metadata": {},
     "output_type": "execute_result"
    },
    {
     "data": {
      "image/png": "[encoded data removed]",
      "text/plain": [
       "<Figure size 640x480 with 1 Axes>"
      ]
     },
     "metadata": {},
     "output_type": "display_data"
    }
   ],
   "source": [
    "sns.countplot(data = df, x = \"District\")\n",
    "\n",
    "plt.xticks(rotation = 90)"
   ]
  },
  {
   "cell_type": "code",
   "execution_count": 12,
   "id": "1c780279",
   "metadata": {},
   "outputs": [
    {
     "data": {
      "text/plain": [
       "8.0     523091\n",
       "11.0    499727\n",
       "6.0     455036\n",
       "7.0     450369\n",
       "25.0    442806\n",
       "4.0     441912\n",
       "3.0     394760\n",
       "12.0    385596\n",
       "9.0     380294\n",
       "2.0     368293\n",
       "18.0    349246\n",
       "19.0    349238\n",
       "5.0     344958\n",
       "10.0    335333\n",
       "15.0    333708\n",
       "1.0     314505\n",
       "14.0    301230\n",
       "16.0    260419\n",
       "22.0    255118\n",
       "24.0    235026\n",
       "17.0    224664\n",
       "20.0    137588\n",
       "31.0       234\n",
       "21.0         4\n",
       "Name: District, dtype: int64"
      ]
     },
     "execution_count": 12,
     "metadata": {},
     "output_type": "execute_result"
    }
   ],
   "source": [
    "df[\"District\"].value_counts()"
   ]
  },
  {
   "cell_type": "markdown",
   "id": "c0b73c12",
   "metadata": {},
   "source": [
    "## Is the total number of crimes increasing or decreasing across the years? Are there any individual crimes that are doing the opposite (e.g decreasing when overall crime is increasing or vice-versa)?"
   ]
  },
  {
   "cell_type": "code",
   "execution_count": null,
   "id": "591a3638",
   "metadata": {},
   "outputs": [],
   "source": []
  },
  {
   "cell_type": "markdown",
   "id": "916fb68e",
   "metadata": {
    "heading_collapsed": true
   },
   "source": [
    "## Are crimes more common during AM rush hour (7A-10A) or PM rush hour (4P-7P)? What are the top 5 most common crimes during AM rush hour? What are the top 5 most common crimes during PM rush hour? Are Motor Vehicle Thefts more common during AM rush hour or PM Rush Hour?\n",
    "\n",
    "\n",
    "Will address this at a later date"
   ]
  },
  {
   "cell_type": "code",
   "execution_count": null,
   "id": "ddadabe7",
   "metadata": {
    "hidden": true
   },
   "outputs": [],
   "source": []
  },
  {
   "cell_type": "markdown",
   "id": "7361c109",
   "metadata": {},
   "source": [
    "## What months have the most crime? What months have the least? Are there any individual crimes that do not follow this pattern? If so, which crimes?"
   ]
  },
  {
   "cell_type": "code",
   "execution_count": null,
   "id": "42a4ce9d",
   "metadata": {},
   "outputs": [],
   "source": []
  },
  {
   "cell_type": "markdown",
   "id": "06f398b6",
   "metadata": {
    "heading_collapsed": true
   },
   "source": [
    "## Are there any holidays that show an increase in the # of crimes? Are there any holidays that show a decrease in the # of crimes?\n",
    "\n",
    "Will address this at a later date, using the following url for holidays: https://docs.google.com/spreadsheets/d/1d8hoZzDAhbWx6EwNjrMTTOE5-23Pr1VxJeUxVj1JL9U/edit?usp=sharing"
   ]
  },
  {
   "cell_type": "code",
   "execution_count": null,
   "id": "f1a84770",
   "metadata": {
    "hidden": true
   },
   "outputs": [],
   "source": []
  }
 ],
 "metadata": {
  "kernelspec": {
   "display_name": "Python 3 (ipykernel)",
   "language": "python",
   "name": "python3"
  },
  "language_info": {
   "codemirror_mode": {
    "name": "ipython",
    "version": 3
   },
   "file_extension": ".py",
   "mimetype": "text/x-python",
   "name": "python",
   "nbconvert_exporter": "python",
   "pygments_lexer": "ipython3",
   "version": "3.9.15"
  },
  "toc": {
   "base_numbering": 1,
   "nav_menu": {},
   "number_sections": false,
   "sideBar": true,
   "skip_h1_title": false,
   "title_cell": "Table of Contents",
   "title_sidebar": "Contents",
   "toc_cell": false,
   "toc_position": {},
   "toc_section_display": true,
   "toc_window_display": false
  }
 },
 "nbformat": 4,
 "nbformat_minor": 5
}
